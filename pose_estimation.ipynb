{
 "cells": [
  {
   "cell_type": "code",
   "execution_count": 1,
   "metadata": {},
   "outputs": [
    {
     "name": "stdout",
     "output_type": "stream",
     "text": [
      "Requirement already satisfied: opencv-python in c:\\python312\\lib\\site-packages (4.10.0.84)\n",
      "Requirement already satisfied: numpy>=1.21.2 in c:\\python312\\lib\\site-packages (from opencv-python) (1.26.4)\n",
      "Note: you may need to restart the kernel to use updated packages.\n"
     ]
    },
    {
     "name": "stderr",
     "output_type": "stream",
     "text": [
      "\n",
      "[notice] A new release of pip is available: 24.2 -> 24.3.1\n",
      "[notice] To update, run: python.exe -m pip install --upgrade pip\n"
     ]
    }
   ],
   "source": [
    "pip install opencv-python"
   ]
  },
  {
   "cell_type": "code",
   "execution_count": 2,
   "metadata": {},
   "outputs": [],
   "source": [
    "import cv2"
   ]
  },
  {
   "cell_type": "code",
   "execution_count": 3,
   "metadata": {},
   "outputs": [
    {
     "name": "stdout",
     "output_type": "stream",
     "text": [
      "4.10.0\n"
     ]
    }
   ],
   "source": [
    "print(cv2.__version__)"
   ]
  },
  {
   "cell_type": "code",
   "execution_count": 4,
   "metadata": {},
   "outputs": [
    {
     "name": "stdout",
     "output_type": "stream",
     "text": [
      "[[[21 33 57]\n",
      "  [21 33 57]\n",
      "  [21 33 57]\n",
      "  ...\n",
      "  [23 33 63]\n",
      "  [24 34 64]\n",
      "  [24 34 64]]\n",
      "\n",
      " [[21 33 57]\n",
      "  [21 33 57]\n",
      "  [21 33 57]\n",
      "  ...\n",
      "  [23 33 63]\n",
      "  [23 33 63]\n",
      "  [23 33 63]]\n",
      "\n",
      " [[21 33 57]\n",
      "  [21 33 57]\n",
      "  [21 33 57]\n",
      "  ...\n",
      "  [23 33 63]\n",
      "  [22 32 62]\n",
      "  [22 32 62]]\n",
      "\n",
      " ...\n",
      "\n",
      " [[ 1  1  1]\n",
      "  [ 1  1  1]\n",
      "  [ 1  1  1]\n",
      "  ...\n",
      "  [ 1  1  1]\n",
      "  [ 1  1  1]\n",
      "  [ 1  1  1]]\n",
      "\n",
      " [[60 60 60]\n",
      "  [ 2  2  2]\n",
      "  [ 0  0  0]\n",
      "  ...\n",
      "  [ 3  3  3]\n",
      "  [ 4  4  4]\n",
      "  [62 62 62]]\n",
      "\n",
      " [[60 60 60]\n",
      "  [ 2  2  2]\n",
      "  [ 0  0  0]\n",
      "  ...\n",
      "  [ 3  3  3]\n",
      "  [ 4  4  4]\n",
      "  [62 62 62]]]\n"
     ]
    }
   ],
   "source": [
    "#using imread('path') and \n",
    "img = cv2.imread(r'OIP.jpg', 1) # 1 for color image and 0 for grayscale\n",
    "print(img)"
   ]
  },
  {
   "cell_type": "markdown",
   "metadata": {},
   "source": [
    "* When you use cv2.imread() to load an image, OpenCV reads it in BGR (Blue, Green, Red) format."
   ]
  },
  {
   "cell_type": "code",
   "execution_count": 5,
   "metadata": {},
   "outputs": [],
   "source": [
    "img1 = cv2.cvtColor(img, cv2.COLOR_BGR2GRAY)"
   ]
  },
  {
   "cell_type": "code",
   "execution_count": 6,
   "metadata": {},
   "outputs": [],
   "source": [
    "img2 = cv2.cvtColor(img, cv2.COLOR_BGR2RGB)"
   ]
  },
  {
   "cell_type": "code",
   "execution_count": 7,
   "metadata": {},
   "outputs": [],
   "source": [
    "img3 = cv2.cvtColor(img, cv2.COLOR_BGR2HSV)"
   ]
  },
  {
   "cell_type": "code",
   "execution_count": 8,
   "metadata": {},
   "outputs": [],
   "source": [
    "img4 = cv2.cvtColor(img, cv2.COLOR_BGR2LAB)"
   ]
  },
  {
   "cell_type": "code",
   "execution_count": 9,
   "metadata": {},
   "outputs": [],
   "source": [
    "#This is using for display the image\n",
    "cv2.imshow('COLOR_image', img)\n",
    "cv2.imshow('Gray_image', img1)\n",
    "cv2.imshow('RGB_image', img2)\n",
    "cv2.imshow('HSV_image', img3)\n",
    "cv2.imshow('LAB_image', img4)\n",
    "\n",
    "cv2.waitKey(0) #if we put 0 here means the image does not close until we press any key.(it will run continuously until the key press.)\n",
    "cv2.destroyAllWindows()"
   ]
  },
  {
   "cell_type": "code",
   "execution_count": 10,
   "metadata": {},
   "outputs": [
    {
     "name": "stdout",
     "output_type": "stream",
     "text": [
      "Image written to file-system:  True\n"
     ]
    }
   ],
   "source": [
    "#write the file in local directory\n",
    "\n",
    "status = cv2.imwrite('hsvImage.png', img3)\n",
    "print(\"Image written to file-system: \", status)"
   ]
  },
  {
   "cell_type": "code",
   "execution_count": 11,
   "metadata": {},
   "outputs": [],
   "source": [
    "# height, width, number of channels in image\n",
    "dimensions = img.shape      #return a tuple with values height, width, and channels\n",
    "height = img.shape[0]\n",
    "width = img.shape[1]\n",
    "channels = img.shape[2]\n",
    "size1 = img.size\n"
   ]
  },
  {
   "cell_type": "code",
   "execution_count": 12,
   "metadata": {},
   "outputs": [
    {
     "name": "stdout",
     "output_type": "stream",
     "text": [
      "Image Dimension      : (474, 474, 3)\n",
      "Image Height         : 474\n",
      "Image Width          : 474\n",
      "Number of Channels   : 3\n",
      "Image size           : 674028\n"
     ]
    }
   ],
   "source": [
    "print('Image Dimension      :', dimensions)\n",
    "print('Image Height         :', height)\n",
    "print('Image Width          :', width)\n",
    "print('Number of Channels   :', channels)\n",
    "print('Image size           :', size1)"
   ]
  },
  {
   "cell_type": "code",
   "execution_count": 13,
   "metadata": {},
   "outputs": [],
   "source": [
    "#split the image in 3 components(b, g, r) and merge it in different formats\n",
    "b, g, r = cv2.split(img)\n",
    "\n",
    "merged_img_bgr = cv2.merge((b, g, r))\n",
    "merged_img_rgb = cv2.merge((r, g, b))\n",
    "\n",
    "cv2.imshow('original image', img)\n",
    "cv2.imshow('color_b_image', b)\n",
    "cv2.imshow('color_g_image', g)\n",
    "cv2.imshow('color_r_image', r)\n",
    "\n",
    "cv2.imshow('merged_bgr', merged_img_bgr)\n",
    "cv2.imshow('merged_rgb', merged_img_rgb)\n",
    "\n",
    "cv2.waitKey(0)\n",
    "cv2.destroyAllWindows()"
   ]
  },
  {
   "cell_type": "code",
   "execution_count": 14,
   "metadata": {},
   "outputs": [
    {
     "name": "stdout",
     "output_type": "stream",
     "text": [
      "Resized Dimensions:  (650, 600, 3)\n"
     ]
    }
   ],
   "source": [
    "# Resizing an image\n",
    "\n",
    "width = 600\n",
    "height = 650\n",
    "dim = (width, height)\n",
    "\n",
    "resized = cv2.resize(img, dim, interpolation = cv2.INTER_AREA)\n",
    "\n",
    "print('Resized Dimensions: ', resized.shape)\n",
    "cv2.imshow('Original image', img)\n",
    "cv2.imshow('Resized image', resized)\n",
    "\n",
    "cv2.waitKey(0)\n",
    "cv2.destroyAllWindows()"
   ]
  },
  {
   "cell_type": "markdown",
   "metadata": {},
   "source": [
    "* Interpolation of image(https://www.cambridgeincolour.com/tutorials/image-interpolation.htm#google_vignette)"
   ]
  },
  {
   "cell_type": "code",
   "execution_count": null,
   "metadata": {},
   "outputs": [],
   "source": [
    "#get image height, width\n",
    "(h, w) = img.shape[:2]\n",
    "#calculate center of the image\n",
    "center = (w/2, h/2)\n",
    "\n",
    "angle90 = 90\n",
    "angle180 = 180\n",
    "angle270 = 270\n",
    "\n",
    "scale = 1.0\n",
    "\n",
    "# Perform the counterclockwise rotation holding at the center\n",
    "# 90 degrees\n",
    "M = cv2.getRotationMatrix2D(center, angle90, scale)\n",
    "rotated90 = cv2.warpAffine(img, M, (h, w))\n",
    "\n",
    "# 180 degrees\n",
    "M = cv2.getRotationMatrix2D(center, angle180, scale)\n",
    "rotated180 = cv2.warpAffine(img, M, (h, w))\n",
    "\n",
    "# 270 degrees\n",
    "M = cv2.getRotationMatrix2D(center, angle270, scale)\n",
    "rotated270 = cv2.warpAffine(img, M, (h, w))\n",
    "\n",
    "cv2.imshow('Original img', img)\n",
    "#cv2.waitKey(0)                  #waits until a key is pressed\n",
    "#cv2.destroyAllWindows()         #destroys the windows showing image\n",
    "\n",
    "cv2.imshow('90 degree rotated', rotated90)\n",
    "#cv2.waitKey(0)                  #waits until a key is pressed\n",
    "#cv2.destroyAllWindows()         #destroys the windows showing image\n",
    "\n",
    "cv2.imshow('180 degree rotated', rotated180)\n",
    "#cv2.waitKey(0)                  #waits until a key is pressed\n",
    "#cv2.destroyAllWindows()         #destroys the windows showing image\n",
    "\n",
    "cv2.imshow('270 degree rotated', rotated270)\n",
    "cv2.waitKey(0)                  #waits until a key is pressed\n",
    "cv2.destroyAllWindows()         #destroys the windows showing image"
   ]
  },
  {
   "cell_type": "code",
   "execution_count": 26,
   "metadata": {},
   "outputs": [],
   "source": [
    "# Draw on image\n",
    "\n",
    "cv2.circle(img, (100, 100), 60, (125, 233, 29), -1)\n",
    "cv2.imshow('image', img)\n",
    "cv2.waitKey(0)\n",
    "cv2.destroyAllWindows()\n",
    "\n",
    "cv2.rectangle(img, (250, 200), (400, 450), (100, 200, 75), 10)\n",
    "cv2.imshow('image', img)\n",
    "cv2.waitKey(0)\n",
    "cv2.destroyAllWindows()\n",
    "\n",
    "cv2.ellipse(img, (330, 330), (90, 80), 5, 0, 360, (255, 230, 100), -1)\n",
    "cv2.imshow('image', img)\n",
    "cv2.waitKey(0)\n",
    "cv2.destroyAllWindows()"
   ]
  },
  {
   "cell_type": "code",
   "execution_count": 27,
   "metadata": {},
   "outputs": [],
   "source": [
    "#line\n",
    "\n",
    "import numpy as np\n",
    "cv2.line(img, (10, 0), (440, 440), (255, 255, 255), 15)\n",
    "cv2.imshow('image', img)\n",
    "cv2.waitKey(0)\n",
    "cv2.destroyAllWindows()"
   ]
  },
  {
   "cell_type": "code",
   "execution_count": 28,
   "metadata": {},
   "outputs": [],
   "source": [
    "\n",
    "#Add text to image\n",
    "font = cv2.FONT_HERSHEY_COMPLEX\n",
    "cv2.putText(img, 'Chhotu', (150, 170), font, 2, (200, 170, 160), 5)\n",
    "cv2.imshow('image', img)\n",
    "cv2.waitKey(0)\n",
    "cv2.destroyAllWindows()"
   ]
  }
 ],
 "metadata": {
  "kernelspec": {
   "display_name": "Python 3",
   "language": "python",
   "name": "python3"
  },
  "language_info": {
   "codemirror_mode": {
    "name": "ipython",
    "version": 3
   },
   "file_extension": ".py",
   "mimetype": "text/x-python",
   "name": "python",
   "nbconvert_exporter": "python",
   "pygments_lexer": "ipython3",
   "version": "3.12.2"
  }
 },
 "nbformat": 4,
 "nbformat_minor": 4
}
