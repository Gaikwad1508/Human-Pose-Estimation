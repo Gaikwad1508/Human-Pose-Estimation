{
 "cells": [
  {
   "cell_type": "code",
   "execution_count": 1,
   "metadata": {},
   "outputs": [
    {
     "name": "stdout",
     "output_type": "stream",
     "text": [
      "Requirement already satisfied: opencv-python in c:\\python312\\lib\\site-packages (4.10.0.84)\n",
      "Requirement already satisfied: numpy>=1.21.2 in c:\\python312\\lib\\site-packages (from opencv-python) (1.26.4)\n",
      "Note: you may need to restart the kernel to use updated packages.\n"
     ]
    },
    {
     "name": "stderr",
     "output_type": "stream",
     "text": [
      "\n",
      "[notice] A new release of pip is available: 24.2 -> 24.3.1\n",
      "[notice] To update, run: python.exe -m pip install --upgrade pip\n"
     ]
    }
   ],
   "source": [
    "pip install opencv-python"
   ]
  },
  {
   "cell_type": "code",
   "execution_count": 2,
   "metadata": {},
   "outputs": [],
   "source": [
    "import cv2"
   ]
  },
  {
   "cell_type": "code",
   "execution_count": 3,
   "metadata": {},
   "outputs": [
    {
     "name": "stdout",
     "output_type": "stream",
     "text": [
      "4.10.0\n"
     ]
    }
   ],
   "source": [
    "print(cv2.__version__)"
   ]
  },
  {
   "cell_type": "code",
   "execution_count": 4,
   "metadata": {},
   "outputs": [
    {
     "name": "stdout",
     "output_type": "stream",
     "text": [
      "[[[21 33 57]\n",
      "  [21 33 57]\n",
      "  [21 33 57]\n",
      "  ...\n",
      "  [23 33 63]\n",
      "  [24 34 64]\n",
      "  [24 34 64]]\n",
      "\n",
      " [[21 33 57]\n",
      "  [21 33 57]\n",
      "  [21 33 57]\n",
      "  ...\n",
      "  [23 33 63]\n",
      "  [23 33 63]\n",
      "  [23 33 63]]\n",
      "\n",
      " [[21 33 57]\n",
      "  [21 33 57]\n",
      "  [21 33 57]\n",
      "  ...\n",
      "  [23 33 63]\n",
      "  [22 32 62]\n",
      "  [22 32 62]]\n",
      "\n",
      " ...\n",
      "\n",
      " [[ 1  1  1]\n",
      "  [ 1  1  1]\n",
      "  [ 1  1  1]\n",
      "  ...\n",
      "  [ 1  1  1]\n",
      "  [ 1  1  1]\n",
      "  [ 1  1  1]]\n",
      "\n",
      " [[60 60 60]\n",
      "  [ 2  2  2]\n",
      "  [ 0  0  0]\n",
      "  ...\n",
      "  [ 3  3  3]\n",
      "  [ 4  4  4]\n",
      "  [62 62 62]]\n",
      "\n",
      " [[60 60 60]\n",
      "  [ 2  2  2]\n",
      "  [ 0  0  0]\n",
      "  ...\n",
      "  [ 3  3  3]\n",
      "  [ 4  4  4]\n",
      "  [62 62 62]]]\n"
     ]
    }
   ],
   "source": [
    "#using imread('path') and \n",
    "img = cv2.imread(r'OIP.jpg', 1) # 1 for color image and 0 for grayscale\n",
    "print(img)"
   ]
  },
  {
   "cell_type": "code",
   "execution_count": 5,
   "metadata": {},
   "outputs": [],
   "source": [
    "img1 = cv2.cvtColor(img, cv2.COLOR_RGB2GRAY)"
   ]
  },
  {
   "cell_type": "code",
   "execution_count": 6,
   "metadata": {},
   "outputs": [],
   "source": [
    "img2 = cv2.cvtColor(img, cv2.COLOR_RGB2BGR)"
   ]
  },
  {
   "cell_type": "code",
   "execution_count": 7,
   "metadata": {},
   "outputs": [],
   "source": [
    "img3 = cv2.cvtColor(img, cv2.COLOR_RGB2HSV)"
   ]
  },
  {
   "cell_type": "code",
   "execution_count": 8,
   "metadata": {},
   "outputs": [],
   "source": [
    "img4 = cv2.cvtColor(img, cv2.COLOR_RGB2LAB)"
   ]
  },
  {
   "cell_type": "code",
   "execution_count": 16,
   "metadata": {},
   "outputs": [],
   "source": [
    "#This is using for display the image\n",
    "cv2.imshow('COLOR_image', img)\n",
    "cv2.imshow('Gray_image', img1)\n",
    "cv2.imshow('RGB_image', img2)\n",
    "cv2.imshow('HSV_image', img3)\n",
    "cv2.imshow('LAB_image', img4)\n",
    "\n",
    "cv2.waitKey(0) #if we put 0 here means the image does not close until we press any key.(it will run continuously until the key press.)\n",
    "cv2.destroyAllWindows()"
   ]
  },
  {
   "cell_type": "code",
   "execution_count": null,
   "metadata": {},
   "outputs": [],
   "source": []
  }
 ],
 "metadata": {
  "kernelspec": {
   "display_name": "Python 3",
   "language": "python",
   "name": "python3"
  },
  "language_info": {
   "codemirror_mode": {
    "name": "ipython",
    "version": 3
   },
   "file_extension": ".py",
   "mimetype": "text/x-python",
   "name": "python",
   "nbconvert_exporter": "python",
   "pygments_lexer": "ipython3",
   "version": "3.12.2"
  }
 },
 "nbformat": 4,
 "nbformat_minor": 4
}
